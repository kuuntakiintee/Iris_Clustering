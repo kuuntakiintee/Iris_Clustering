{
 "cells": [
  {
   "cell_type": "markdown",
   "metadata": {},
   "source": [
    "# IMPORT LIBRARY"
   ]
  },
  {
   "cell_type": "code",
   "execution_count": 1,
   "metadata": {},
   "outputs": [],
   "source": [
    "import numpy as np\n",
    "import pandas as pd\n",
    "import plotly.express as px\n",
    "import seaborn as sns\n",
    "import plotly.graph_objects as go\n",
    "from sklearn.preprocessing import MinMaxScaler\n",
    "from sklearn.cluster import KMeans"
   ]
  },
  {
   "cell_type": "markdown",
   "metadata": {},
   "source": [
    "# IMPORT DATA"
   ]
  },
  {
   "cell_type": "code",
   "execution_count": 2,
   "metadata": {},
   "outputs": [],
   "source": [
    "dataset = pd.read_csv(\"Iris.csv\") "
   ]
  },
  {
   "cell_type": "code",
   "execution_count": 4,
   "metadata": {},
   "outputs": [
    {
     "data": {
      "text/html": [
       "<div>\n",
       "<style scoped>\n",
       "    .dataframe tbody tr th:only-of-type {\n",
       "        vertical-align: middle;\n",
       "    }\n",
       "\n",
       "    .dataframe tbody tr th {\n",
       "        vertical-align: top;\n",
       "    }\n",
       "\n",
       "    .dataframe thead th {\n",
       "        text-align: right;\n",
       "    }\n",
       "</style>\n",
       "<table border=\"1\" class=\"dataframe\">\n",
       "  <thead>\n",
       "    <tr style=\"text-align: right;\">\n",
       "      <th></th>\n",
       "      <th>Id</th>\n",
       "      <th>SepalLengthCm</th>\n",
       "      <th>SepalWidthCm</th>\n",
       "      <th>PetalLengthCm</th>\n",
       "      <th>PetalWidthCm</th>\n",
       "      <th>Species</th>\n",
       "    </tr>\n",
       "  </thead>\n",
       "  <tbody>\n",
       "    <tr>\n",
       "      <th>0</th>\n",
       "      <td>1</td>\n",
       "      <td>5.1</td>\n",
       "      <td>3.5</td>\n",
       "      <td>1.4</td>\n",
       "      <td>0.2</td>\n",
       "      <td>Iris-setosa</td>\n",
       "    </tr>\n",
       "    <tr>\n",
       "      <th>1</th>\n",
       "      <td>2</td>\n",
       "      <td>4.9</td>\n",
       "      <td>3.0</td>\n",
       "      <td>1.4</td>\n",
       "      <td>0.2</td>\n",
       "      <td>Iris-setosa</td>\n",
       "    </tr>\n",
       "    <tr>\n",
       "      <th>2</th>\n",
       "      <td>3</td>\n",
       "      <td>4.7</td>\n",
       "      <td>3.2</td>\n",
       "      <td>1.3</td>\n",
       "      <td>0.2</td>\n",
       "      <td>Iris-setosa</td>\n",
       "    </tr>\n",
       "    <tr>\n",
       "      <th>3</th>\n",
       "      <td>4</td>\n",
       "      <td>4.6</td>\n",
       "      <td>3.1</td>\n",
       "      <td>1.5</td>\n",
       "      <td>0.2</td>\n",
       "      <td>Iris-setosa</td>\n",
       "    </tr>\n",
       "    <tr>\n",
       "      <th>4</th>\n",
       "      <td>5</td>\n",
       "      <td>5.0</td>\n",
       "      <td>3.6</td>\n",
       "      <td>1.4</td>\n",
       "      <td>0.2</td>\n",
       "      <td>Iris-setosa</td>\n",
       "    </tr>\n",
       "  </tbody>\n",
       "</table>\n",
       "</div>"
      ],
      "text/plain": [
       "   Id  SepalLengthCm  SepalWidthCm  PetalLengthCm  PetalWidthCm      Species\n",
       "0   1            5.1           3.5            1.4           0.2  Iris-setosa\n",
       "1   2            4.9           3.0            1.4           0.2  Iris-setosa\n",
       "2   3            4.7           3.2            1.3           0.2  Iris-setosa\n",
       "3   4            4.6           3.1            1.5           0.2  Iris-setosa\n",
       "4   5            5.0           3.6            1.4           0.2  Iris-setosa"
      ]
     },
     "execution_count": 4,
     "metadata": {},
     "output_type": "execute_result"
    }
   ],
   "source": [
    "dataset.head()"
   ]
  },
  {
   "cell_type": "code",
   "execution_count": 5,
   "metadata": {},
   "outputs": [],
   "source": [
    "dataset.drop('Id',inplace=True,axis=1) \n"
   ]
  },
  {
   "cell_type": "code",
   "execution_count": 6,
   "metadata": {},
   "outputs": [],
   "source": [
    "X = dataset.iloc[:,:-1].values \n",
    "y = dataset.iloc[:,-1].values "
   ]
  },
  {
   "cell_type": "code",
   "execution_count": 9,
   "metadata": {},
   "outputs": [
    {
     "data": {
      "text/html": [
       "<style type=\"text/css\">\n",
       "#T_4958d_row0_col0, #T_4958d_row3_col2, #T_4958d_row4_col1 {\n",
       "  background-color: #0000ff;\n",
       "  color: #f1f1f1;\n",
       "}\n",
       "#T_4958d_row0_col1 {\n",
       "  background-color: #0606dd;\n",
       "  color: #f1f1f1;\n",
       "}\n",
       "#T_4958d_row0_col2, #T_4958d_row1_col2, #T_4958d_row4_col2 {\n",
       "  background-color: #121298;\n",
       "  color: #f1f1f1;\n",
       "}\n",
       "#T_4958d_row0_col3, #T_4958d_row1_col1, #T_4958d_row1_col3, #T_4958d_row2_col2, #T_4958d_row2_col3, #T_4958d_row3_col0, #T_4958d_row3_col3, #T_4958d_row4_col3 {\n",
       "  background-color: #242433;\n",
       "  color: #f1f1f1;\n",
       "}\n",
       "#T_4958d_row1_col0 {\n",
       "  background-color: #0f0fad;\n",
       "  color: #f1f1f1;\n",
       "}\n",
       "#T_4958d_row2_col0 {\n",
       "  background-color: #1d1d5c;\n",
       "  color: #f1f1f1;\n",
       "}\n",
       "#T_4958d_row2_col1 {\n",
       "  background-color: #181877;\n",
       "  color: #f1f1f1;\n",
       "}\n",
       "#T_4958d_row3_col1 {\n",
       "  background-color: #1e1e54;\n",
       "  color: #f1f1f1;\n",
       "}\n",
       "#T_4958d_row4_col0 {\n",
       "  background-color: #0707d6;\n",
       "  color: #f1f1f1;\n",
       "}\n",
       "</style>\n",
       "<table id=\"T_4958d\">\n",
       "  <thead>\n",
       "    <tr>\n",
       "      <th class=\"blank level0\" >&nbsp;</th>\n",
       "      <th id=\"T_4958d_level0_col0\" class=\"col_heading level0 col0\" >SepalLengthCm</th>\n",
       "      <th id=\"T_4958d_level0_col1\" class=\"col_heading level0 col1\" >SepalWidthCm</th>\n",
       "      <th id=\"T_4958d_level0_col2\" class=\"col_heading level0 col2\" >PetalLengthCm</th>\n",
       "      <th id=\"T_4958d_level0_col3\" class=\"col_heading level0 col3\" >PetalWidthCm</th>\n",
       "      <th id=\"T_4958d_level0_col4\" class=\"col_heading level0 col4\" >Species</th>\n",
       "    </tr>\n",
       "  </thead>\n",
       "  <tbody>\n",
       "    <tr>\n",
       "      <th id=\"T_4958d_level0_row0\" class=\"row_heading level0 row0\" >0</th>\n",
       "      <td id=\"T_4958d_row0_col0\" class=\"data row0 col0\" >5.100000</td>\n",
       "      <td id=\"T_4958d_row0_col1\" class=\"data row0 col1\" >3.500000</td>\n",
       "      <td id=\"T_4958d_row0_col2\" class=\"data row0 col2\" >1.400000</td>\n",
       "      <td id=\"T_4958d_row0_col3\" class=\"data row0 col3\" >0.200000</td>\n",
       "      <td id=\"T_4958d_row0_col4\" class=\"data row0 col4\" >Iris-setosa</td>\n",
       "    </tr>\n",
       "    <tr>\n",
       "      <th id=\"T_4958d_level0_row1\" class=\"row_heading level0 row1\" >1</th>\n",
       "      <td id=\"T_4958d_row1_col0\" class=\"data row1 col0\" >4.900000</td>\n",
       "      <td id=\"T_4958d_row1_col1\" class=\"data row1 col1\" >3.000000</td>\n",
       "      <td id=\"T_4958d_row1_col2\" class=\"data row1 col2\" >1.400000</td>\n",
       "      <td id=\"T_4958d_row1_col3\" class=\"data row1 col3\" >0.200000</td>\n",
       "      <td id=\"T_4958d_row1_col4\" class=\"data row1 col4\" >Iris-setosa</td>\n",
       "    </tr>\n",
       "    <tr>\n",
       "      <th id=\"T_4958d_level0_row2\" class=\"row_heading level0 row2\" >2</th>\n",
       "      <td id=\"T_4958d_row2_col0\" class=\"data row2 col0\" >4.700000</td>\n",
       "      <td id=\"T_4958d_row2_col1\" class=\"data row2 col1\" >3.200000</td>\n",
       "      <td id=\"T_4958d_row2_col2\" class=\"data row2 col2\" >1.300000</td>\n",
       "      <td id=\"T_4958d_row2_col3\" class=\"data row2 col3\" >0.200000</td>\n",
       "      <td id=\"T_4958d_row2_col4\" class=\"data row2 col4\" >Iris-setosa</td>\n",
       "    </tr>\n",
       "    <tr>\n",
       "      <th id=\"T_4958d_level0_row3\" class=\"row_heading level0 row3\" >3</th>\n",
       "      <td id=\"T_4958d_row3_col0\" class=\"data row3 col0\" >4.600000</td>\n",
       "      <td id=\"T_4958d_row3_col1\" class=\"data row3 col1\" >3.100000</td>\n",
       "      <td id=\"T_4958d_row3_col2\" class=\"data row3 col2\" >1.500000</td>\n",
       "      <td id=\"T_4958d_row3_col3\" class=\"data row3 col3\" >0.200000</td>\n",
       "      <td id=\"T_4958d_row3_col4\" class=\"data row3 col4\" >Iris-setosa</td>\n",
       "    </tr>\n",
       "    <tr>\n",
       "      <th id=\"T_4958d_level0_row4\" class=\"row_heading level0 row4\" >4</th>\n",
       "      <td id=\"T_4958d_row4_col0\" class=\"data row4 col0\" >5.000000</td>\n",
       "      <td id=\"T_4958d_row4_col1\" class=\"data row4 col1\" >3.600000</td>\n",
       "      <td id=\"T_4958d_row4_col2\" class=\"data row4 col2\" >1.400000</td>\n",
       "      <td id=\"T_4958d_row4_col3\" class=\"data row4 col3\" >0.200000</td>\n",
       "      <td id=\"T_4958d_row4_col4\" class=\"data row4 col4\" >Iris-setosa</td>\n",
       "    </tr>\n",
       "  </tbody>\n",
       "</table>\n"
      ],
      "text/plain": [
       "<pandas.io.formats.style.Styler at 0x1874fc1e4b0>"
      ]
     },
     "execution_count": 9,
     "metadata": {},
     "output_type": "execute_result"
    }
   ],
   "source": [
    "dataset.head().style.background_gradient(cmap=sns.dark_palette(\"blue\", as_cmap=True))\n"
   ]
  },
  {
   "cell_type": "markdown",
   "metadata": {},
   "source": [
    "# EDA"
   ]
  },
  {
   "cell_type": "code",
   "execution_count": null,
   "metadata": {},
   "outputs": [],
   "source": [
    "fig = px.pie(\n",
    "    iris,\n",
    "    'Species',\n",
    "    color_discrete_sequence=['#003f5c', '#0077b6', '#00b4d8'],  # Shades of blue\n",
    "    title='Data Distribution',\n",
    "    template='plotly'\n",
    ")"
   ]
  }
 ],
 "metadata": {
  "kernelspec": {
   "display_name": "Python 3",
   "language": "python",
   "name": "python3"
  },
  "language_info": {
   "codemirror_mode": {
    "name": "ipython",
    "version": 3
   },
   "file_extension": ".py",
   "mimetype": "text/x-python",
   "name": "python",
   "nbconvert_exporter": "python",
   "pygments_lexer": "ipython3",
   "version": "3.12.6"
  }
 },
 "nbformat": 4,
 "nbformat_minor": 2
}
